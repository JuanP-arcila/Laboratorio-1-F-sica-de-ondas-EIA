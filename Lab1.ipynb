{
 "cells": [
  {
   "cell_type": "markdown",
   "id": "42796a44",
   "metadata": {},
   "source": [
    "# Laboratorio #1 Física de Campos "
   ]
  },
  {
   "cell_type": "code",
   "execution_count": 23,
   "id": "6cb4f951",
   "metadata": {},
   "outputs": [],
   "source": [
    "using Plots, LinearAlgebra, DataFrames"
   ]
  },
  {
   "cell_type": "markdown",
   "id": "1af0c9a2",
   "metadata": {},
   "source": [
    "#### **Constantes físicas**"
   ]
  },
  {
   "cell_type": "code",
   "execution_count": 24,
   "id": "6f877761",
   "metadata": {},
   "outputs": [
    {
     "data": {
      "text/plain": [
       "9.8"
      ]
     },
     "execution_count": 24,
     "metadata": {},
     "output_type": "execute_result"
    }
   ],
   "source": [
    "g = 9.8"
   ]
  },
  {
   "cell_type": "markdown",
   "id": "05f13618",
   "metadata": {},
   "source": [
    "#### **Valores conocidos**"
   ]
  },
  {
   "cell_type": "code",
   "execution_count": 25,
   "id": "1014104f",
   "metadata": {},
   "outputs": [
    {
     "name": "stdout",
     "output_type": "stream",
     "text": [
      "mass of body: 0.09334 --- mass of rope: 0.00085 --- error in mass measure: 1.0e-5\n",
      "wave amplitude: 0.03\n",
      "total length of rope: 1.3170000000000002 --- oscilating length: 0.7645 --- error in length meassurement: 0.00207668480889516\n",
      "Tension: 0.9147320000000001 --- error in tension meassurement: 9.800000000000001e-5\n",
      "fundamental frequency: 26.1 --- error in frequency meassurement: 0.1\n",
      "lineal density of the rope: 0.0006454062262718298 --- error in meassurement of linear density: 0.0027169242153974433\n"
     ]
    }
   ],
   "source": [
    "m = 93.34e-3 #masa del cuerpo sostenido en gramos [kg]\n",
    "m_cuerda = 0.85e-3 #masa de la cuerda en gramos [kg]\n",
    "Δm = 0.01e-3 #error de la balanza en gramos [kg]\n",
    "println(\"mass of body: $m --- mass of rope: $m_cuerda --- error in mass measure: $Δm\")\n",
    "\n",
    "ξ₀ = 3e-2 #Amplitud de la onda en metros [m]\n",
    "println(\"wave amplitude: $ξ₀\")\n",
    "\n",
    "L_total = (113.9 + 4.9 + 3.5 + 4.0 + 5.0 + 0.4)*1e-2 #Longitud de la cuerda total en metros [m]\n",
    "L = 76.45e-2 #Longitud de la cuerda oscilante en metros [m]\n",
    "ΔL = (sqrt((L + 0.1e-2)^2 + ξ₀^2)-L)/L #error de la distancia medida en metros [m]\n",
    "println(\"total length of rope: $L_total --- oscilating length: $L --- error in length meassurement: $ΔL\")\n",
    "\n",
    "T = m*g #Tensión en newtons [N] \n",
    "ΔT = Δm*g #Error de la tensión en N\n",
    "println(\"Tension: $T --- error in tension meassurement: $ΔT\")\n",
    "\n",
    "frec_fund = 26.1 #Frecuencia fundamental de la cuerda en Hertz [Hz]\n",
    "Δf = 0.1 #Error de medición de la frecuencia en Hertz [Hz]\n",
    "println(\"fundamental frequency: $frec_fund --- error in frequency meassurement: $Δf\")\n",
    "\n",
    "μ = m_cuerda/L_total #Densidad teórica con respecto a los valores obtenidos\n",
    "Δμ = sqrt((Δm/2m)^2+(ΔL/L)^2)\n",
    "println(\"lineal density of the rope: $μ --- error in meassurement of linear density: $Δμ\")\n"
   ]
  },
  {
   "cell_type": "markdown",
   "id": "c827d849",
   "metadata": {},
   "source": [
    "## **Reporte de laboratorio**"
   ]
  },
  {
   "cell_type": "code",
   "execution_count": 26,
   "id": "1a530fc5",
   "metadata": {},
   "outputs": [
    {
     "name": "stdout",
     "output_type": "stream",
     "text": [
      "frecuencies [Hz]: [26.1 51.2 78.3]\n",
      "wave lengths [m]: [1.529, 0.7645, 0.5097]\n",
      "velocities [m/s]: [39.907, 39.142, 39.91]\n",
      "error for velocity measurements: 0.131"
     ]
    }
   ],
   "source": [
    "fs = [26.1 51.2 78.3]\n",
    "println(\"frecuencies [Hz]: \", fs)\n",
    "λ(n) = 2L/n\n",
    "λs = round.(λ.(1:3), digits = 4)\n",
    "Δλ(n) = 2Δf/n\n",
    "Δλs = Δλ.(1:3)\n",
    "println(\"wave lengths [m]: \", λs)\n",
    "velocities = [fs[i] * λs[i] for i in 1:3]\n",
    "println(\"velocities [m/s]: \", round.(velocities, digits = 3))\n",
    "Δv = sqrt((Δf/fs[1])^2+(Δλs[1]/λs[1])^2)\n",
    "print(\"error for velocity measurements: $(round(Δv, digits = 3))\")"
   ]
  },
  {
   "cell_type": "code",
   "execution_count": 27,
   "id": "35193b6c",
   "metadata": {},
   "outputs": [
    {
     "name": "stdout",
     "output_type": "stream",
     "text": [
      "velocity [m/s]: 37.64699884921694 --- error for velocity meassurement: 2.1048171722571967 \n"
     ]
    }
   ],
   "source": [
    "v = sqrt(T/μ)\n",
    "Δv_ = 1/2*sqrt((ΔT/T)^2+(Δμ/μ)^2)\n",
    "println(\"velocity [m/s]: $v --- error for velocity meassurement: $Δv_ \")"
   ]
  },
  {
   "cell_type": "code",
   "execution_count": 28,
   "id": "386b9a6a",
   "metadata": {},
   "outputs": [
    {
     "data": {
      "text/html": [
       "<div><div style = \"float: left;\"><span>4×4 DataFrame</span></div><div style = \"clear: both;\"></div></div><div class = \"data-frame\" style = \"overflow-x: scroll;\"><table class = \"data-frame\" style = \"margin-bottom: 6px;\"><thead><tr class = \"header\"><th class = \"rowNumber\" style = \"font-weight: bold; text-align: right;\">Row</th><th style = \"text-align: left;\">masses</th><th style = \"text-align: left;\">f</th><th style = \"text-align: left;\">T</th><th style = \"text-align: left;\">f_squared</th></tr><tr class = \"subheader headerLastRow\"><th class = \"rowNumber\" style = \"font-weight: bold; text-align: right;\"></th><th title = \"Float64\" style = \"text-align: left;\">Float64</th><th title = \"Float64\" style = \"text-align: left;\">Float64</th><th title = \"Float64\" style = \"text-align: left;\">Float64</th><th title = \"Float64\" style = \"text-align: left;\">Float64</th></tr></thead><tbody><tr><td class = \"rowNumber\" style = \"font-weight: bold; text-align: right;\">1</td><td style = \"text-align: right;\">93.28</td><td style = \"text-align: right;\">26.1</td><td style = \"text-align: right;\">914.144</td><td style = \"text-align: right;\">681.21</td></tr><tr><td class = \"rowNumber\" style = \"font-weight: bold; text-align: right;\">2</td><td style = \"text-align: right;\">83.51</td><td style = \"text-align: right;\">25.2</td><td style = \"text-align: right;\">818.398</td><td style = \"text-align: right;\">635.04</td></tr><tr><td class = \"rowNumber\" style = \"font-weight: bold; text-align: right;\">3</td><td style = \"text-align: right;\">63.51</td><td style = \"text-align: right;\">22.8</td><td style = \"text-align: right;\">622.398</td><td style = \"text-align: right;\">519.84</td></tr><tr><td class = \"rowNumber\" style = \"font-weight: bold; text-align: right;\">4</td><td style = \"text-align: right;\">42.95</td><td style = \"text-align: right;\">20.0</td><td style = \"text-align: right;\">420.91</td><td style = \"text-align: right;\">400.0</td></tr></tbody></table></div>"
      ],
      "text/latex": [
       "\\begin{tabular}{r|cccc}\n",
       "\t& masses & f & T & f\\_squared\\\\\n",
       "\t\\hline\n",
       "\t& Float64 & Float64 & Float64 & Float64\\\\\n",
       "\t\\hline\n",
       "\t1 & 93.28 & 26.1 & 914.144 & 681.21 \\\\\n",
       "\t2 & 83.51 & 25.2 & 818.398 & 635.04 \\\\\n",
       "\t3 & 63.51 & 22.8 & 622.398 & 519.84 \\\\\n",
       "\t4 & 42.95 & 20.0 & 420.91 & 400.0 \\\\\n",
       "\\end{tabular}\n"
      ],
      "text/plain": [
       "\u001b[1m4×4 DataFrame\u001b[0m\n",
       "\u001b[1m Row \u001b[0m│\u001b[1m masses  \u001b[0m\u001b[1m f       \u001b[0m\u001b[1m T       \u001b[0m\u001b[1m f_squared \u001b[0m\n",
       "     │\u001b[90m Float64 \u001b[0m\u001b[90m Float64 \u001b[0m\u001b[90m Float64 \u001b[0m\u001b[90m Float64   \u001b[0m\n",
       "─────┼──────────────────────────────────────\n",
       "   1 │   93.28     26.1  914.144     681.21\n",
       "   2 │   83.51     25.2  818.398     635.04\n",
       "   3 │   63.51     22.8  622.398     519.84\n",
       "   4 │   42.95     20.0  420.91      400.0"
      ]
     },
     "execution_count": 28,
     "metadata": {},
     "output_type": "execute_result"
    }
   ],
   "source": [
    "masses = [93.28, 83.51, 63.51, 42.95] \n",
    "#println(\"masses used: \", masses)\n",
    "f_masses = [26.1, 25.2, 22.8, 20.0]\n",
    "#println(\"fundamental frequencies: \", f_masses)\n",
    "Ts = g .* masses\n",
    "#println(\"Tensions: \", round.(Ts, digits = 2))\n",
    "f²_masses = f_masses .^ 2\n",
    "#println(\"squared fundamental frequencies: \", round.(f²_masses, digits=2))\n",
    "df = DataFrame(masses = masses, f = f_masses, T = Ts, f_squared = f²_masses)"
   ]
  },
  {
   "cell_type": "code",
   "execution_count": null,
   "id": "699f7725",
   "metadata": {},
   "outputs": [
    {
     "name": "stdout",
     "output_type": "stream",
     "text": [
      "f²(x)=0.575 T + 160.026\n"
     ]
    },
    {
     "data": {
      "text/plain": [
       "1000"
      ]
     },
     "execution_count": 36,
     "metadata": {},
     "output_type": "execute_result"
    }
   ],
   "source": [
    "A = [Ts ones(length(Ts))] #Matrix of coeffitients \n",
    "b = f²_masses#Matrix of results\n",
    "sol = A\\b #Minimmum squares solution\n",
    "T_ = 400:1:1000 #Domain evaluation for tension (T)\n",
    "T = maximum(T_)\n",
    "println(\"f²(x)=$(round(sol[1], digits = 3)) T + $(round(sol[2], digits = 3))\")\n",
    "f²(T) = sol[1]*T + sol[2] #Linear function for f²(T) = mT + c\n",
    "scatter(Ts, f²_masses, label = false)\n",
    "plot!(T_, f².(T_), label = \"f^2  = 0.575 T + 160.026\")"
   ]
  },
  {
   "cell_type": "code",
   "execution_count": 40,
   "id": "836a397d",
   "metadata": {},
   "outputs": [
    {
     "name": "stdout",
     "output_type": "stream",
     "text": [
      "obtained μ with squared root formula: 0.0006454062262718298 --- obtained μ with linear regression: 0.0007918336550265441\n",
      "Error relativo de μ: 0.22687638078818684\n"
     ]
    }
   ],
   "source": [
    "μ_theoretical = T/(λ(1)^2*f²(T)^2)\n",
    "\n",
    "println(\"obtained μ with squared root formula: $μ --- obtained μ with linear regression: $μ_theoretical\")\n",
    "error_ = abs(μ-μ_theoretical)/μ\n",
    "println(\"Error relativo de μ: $error_\")"
   ]
  },
  {
   "cell_type": "code",
   "execution_count": null,
   "id": "edbe6eff",
   "metadata": {},
   "outputs": [],
   "source": []
  }
 ],
 "metadata": {
  "kernelspec": {
   "display_name": "Julia 1.11.6",
   "language": "julia",
   "name": "julia-1.11"
  },
  "language_info": {
   "file_extension": ".jl",
   "mimetype": "application/julia",
   "name": "julia",
   "version": "1.11.6"
  }
 },
 "nbformat": 4,
 "nbformat_minor": 5
}
